{
 "cells": [
  {
   "cell_type": "markdown",
   "metadata": {},
   "source": [
    "# High-resolution connectomics\n",
    "---\n",
    "\n",
    "Here, we have provided a sample example of using the high-resolution connectomes provided in our data release.\n",
    "\n",
    "In this example we will load the high resolution connectome and plot the distribution of nodal strength for the sample connectomes.\n",
    "\n",
    "---"
   ]
  },
  {
   "cell_type": "code",
   "execution_count": 1,
   "metadata": {},
   "outputs": [],
   "source": [
    "# initial imports\n",
    "import os\n",
    "import urllib\n",
    "import tempfile\n",
    "import numpy as np\n",
    "import seaborn as sns\n",
    "import scipy.sparse as sparse"
   ]
  },
  {
   "cell_type": "code",
   "execution_count": 2,
   "metadata": {},
   "outputs": [],
   "source": [
    "# location of a sample file in our remotely available data\n",
    "file_url = 'https://swift.rc.nectar.org.au/v1/AUTH_ee5989f4c9184ea29012bb124cd3dff0/connectome_storage/HCP_1200/100408/high_resolution/functional_connectivity/100408_test_sparse_resting_functional_connectivity.npz'\n",
    "tmp_file = 'tmp.npz'\n",
    "\n",
    "# download from url\n",
    "with open(tmp_file, 'w') as file:\n",
    "    urllib.request.urlretrieve(file_url,tmp_file)\n",
    "\n",
    "# Now load the sparse connectome data\n",
    "connectome = sparse.load_npz(tmp_file)\n",
    "\n",
    "# delete the downloaded file\n",
    "os.remove(tmp_file)"
   ]
  },
  {
   "cell_type": "markdown",
   "metadata": {},
   "source": [
    "**Note:** Runing the previous cell on will take a while for the connectome to be downloaded...\n",
    "\n",
    "---\n",
    "\n",
    "Now we can see that the `connectome` object is actually a sparse adjacency matrix:"
   ]
  },
  {
   "cell_type": "code",
   "execution_count": 3,
   "metadata": {},
   "outputs": [
    {
     "data": {
      "text/plain": [
       "<91282x91282 sparse matrix of type '<class 'numpy.float32'>'\n",
       "\twith 83324061 stored elements in COOrdinate format>"
      ]
     },
     "execution_count": 3,
     "metadata": {},
     "output_type": "execute_result"
    }
   ],
   "source": [
    "connectome"
   ]
  },
  {
   "cell_type": "markdown",
   "metadata": {},
   "source": [
    "---\n",
    "\n",
    "We can create and plot the nodal strength distribution by computing the sum across colums/rows:"
   ]
  },
  {
   "cell_type": "code",
   "execution_count": 4,
   "metadata": {},
   "outputs": [],
   "source": [
    "strength = connectome.sum(axis=0)"
   ]
  },
  {
   "cell_type": "code",
   "execution_count": 5,
   "metadata": {},
   "outputs": [
    {
     "data": {
      "text/plain": [
       "(1, 91282)"
      ]
     },
     "execution_count": 5,
     "metadata": {},
     "output_type": "execute_result"
    }
   ],
   "source": [
    "strength.shape"
   ]
  },
  {
   "cell_type": "code",
   "execution_count": 6,
   "metadata": {},
   "outputs": [
    {
     "data": {
      "text/plain": [
       "Text(0.5, 1.0, 'probability distribution function of high-resolution nodal strength')"
      ]
     },
     "execution_count": 6,
     "metadata": {},
     "output_type": "execute_result"
    },
    {
     "data": {
      "image/png": "[encoded data removed]",
      "text/plain": [
       "<Figure size 432x288 with 1 Axes>"
      ]
     },
     "metadata": {
      "needs_background": "light"
     },
     "output_type": "display_data"
    }
   ],
   "source": [
    "ax = sns.distplot(strength)\n",
    "ax.set_xlabel('node strength')\n",
    "ax.set_ylabel('probability')\n",
    "ax.set_title('probability distribution function of high-resolution nodal strength')"
   ]
  }
 ],
 "metadata": {
  "kernelspec": {
   "display_name": "Python 3",
   "language": "python",
   "name": "python3"
  },
  "language_info": {
   "codemirror_mode": {
    "name": "ipython",
    "version": 3
   },
   "file_extension": ".py",
   "mimetype": "text/x-python",
   "name": "python",
   "nbconvert_exporter": "python",
   "pygments_lexer": "ipython3",
   "version": "3.6.9"
  }
 },
 "nbformat": 4,
 "nbformat_minor": 2
}
