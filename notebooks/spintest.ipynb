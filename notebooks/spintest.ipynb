{
 "cells": [
  {
   "cell_type": "markdown",
   "metadata": {},
   "source": [
    "# spintest\n",
    "---\n",
    "\n",
    "Here, we have provided a sample example of using the spintest codes to compare correspondence between to surface maps.\n",
    "\n",
    "\n",
    "In this example the spearman correlation between the high-resolution maps of uniqueness in functional and structural connectivity is computed (as explained in our paper).\n",
    "\n",
    "---\n"
   ]
  },
  {
   "cell_type": "code",
   "execution_count": 1,
   "metadata": {},
   "outputs": [],
   "source": [
    "# initial imports\n",
    "import os\n",
    "import sys\n",
    "import numpy as np\n",
    "\n",
    "# import the vcm code\n",
    "codes_directory = os.path.abspath('../codes')\n",
    "if codes_directory not in sys.path:\n",
    "    sys.path.append(codes_directory)\n",
    "import spintest\n",
    "\n",
    "# Note: you can import spintest directly if you copy the spintest.py code to your directory, this import method is only because we are accessing spintes.py from a different directory"
   ]
  },
  {
   "cell_type": "code",
   "execution_count": 2,
   "metadata": {},
   "outputs": [
    {
     "name": "stdout",
     "output_type": "stream",
     "text": [
      "{'corellation r': 0.315865431167968, 'parametric p-val': 0.0, 'non-parametric p-val': 0.001}\n"
     ]
    }
   ],
   "source": [
    "# load the surface maps from git repository\n",
    "data_directory = os.path.abspath('../data')\n",
    "\n",
    "# load the first surface map (functional connectivity uniqueness)\n",
    "cifti1 = os.path.join(data_directory, 'uniqueness/High resolution/sparse_functional_connectivity_uniqueness.dscalar.nii')\n",
    "\n",
    "# load the first surface map (structural connectivity uniqueness)\n",
    "cifti2 = os.path.join(data_directory, 'uniqueness/High resolution/structural_connectivity_uniqueness.dscalar.nii')\n",
    "\n",
    "# execute the spintest (this may take a while)\n",
    "result = spintest.cifti_spin_test(cifti1, cifti2, random_seed=0, method='spearman')\n",
    "print(result)\n"
   ]
  },
  {
   "cell_type": "markdown",
   "metadata": {},
   "source": [
    "**Note:** The `non-parametric p-val` is the main result of the spintest run, the correlation value and parametric p-value are just added to make a complete report of the result.\n",
    "\n",
    "**Note:** Runing the previous cell on will take a while..."
   ]
  }
 ],
 "metadata": {
  "kernelspec": {
   "display_name": "Python 3",
   "language": "python",
   "name": "python3"
  },
  "language_info": {
   "codemirror_mode": {
    "name": "ipython",
    "version": 3
   },
   "file_extension": ".py",
   "mimetype": "text/x-python",
   "name": "python",
   "nbconvert_exporter": "python",
   "pygments_lexer": "ipython3",
   "version": "3.6.9"
  }
 },
 "nbformat": 4,
 "nbformat_minor": 2
}
